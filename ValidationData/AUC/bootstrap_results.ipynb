{
 "cells": [
  {
   "cell_type": "code",
   "execution_count": 1,
   "metadata": {},
   "outputs": [
    {
     "name": "stdout",
     "output_type": "stream",
     "text": [
      "INFO: Pandarallel will run on 7 workers.\n",
      "INFO: Pandarallel will use standard multiprocessing data transfer (pipe) to transfer data between the main process and workers.\n"
     ]
    }
   ],
   "source": [
    "import pandas as pd\n",
    "import numpy as np\n",
    "from sklearn.metrics import roc_curve\n",
    "from sklearn.metrics import roc_auc_score\n",
    "from sklearn.metrics import confusion_matrix\n",
    "from sklearn.metrics import accuracy_score\n",
    "from sklearn.metrics import precision_score\n",
    "from sklearn.metrics import recall_score\n",
    "from sklearn.metrics import f1_score\n",
    "import matplotlib.pyplot as plt\n",
    "import seaborn as sns\n",
    "import scipy\n",
    "import os, sys\n",
    "from pathlib import Path\n",
    "from pandarallel import pandarallel\n",
    "\n",
    "import plotly.express as px\n",
    "import plotly.graph_objects as go\n",
    "import plotly.io as pio\n",
    "from plotly.subplots import make_subplots\n",
    "\n",
    "########   Initialize and setup pandas methods   ########\n",
    "pandarallel.initialize(nb_workers=os.cpu_count()-1, progress_bar=False, \n",
    "                       verbose=2, use_memory_fs=False) \n",
    "os.environ['JOBLIB_TEMP_FOLDER'] = '/tmp' \n",
    "\n",
    "try: \n",
    "    __file__\n",
    "    sys.path.append(os.path.join(os.path.dirname('__file__')))\n",
    "except NameError:\n",
    "    Path().resolve()\n",
    "    sys.path.append(os.path.join(Path().resolve(), '../../'))\n",
    "\n",
    "from libs.scoring import Scoring\n",
    "import pickle\n",
    "\n",
    "import warnings\n",
    "warnings.simplefilter('ignore')"
   ]
  },
  {
   "cell_type": "code",
   "execution_count": 2,
   "metadata": {},
   "outputs": [],
   "source": [
    "# Create a DataFrame of the 4,850 solutions\n",
    "fp_solution_pkl = \"bootstrap_results/pkls/all_solution_main.pkl\"\n",
    "with open(fp_solution_pkl, 'rb') as f:\n",
    "    all_solutions = pickle.load(f)\n",
    "\n",
    "solutions = pd.DataFrame(all_solutions)\n",
    "solutions_list = [f\"Solution {i}\" for i in range(1, 4851)]\n",
    "patterns_sr = pd.Series(solutions_list, name='Solution')\n",
    "solutions = pd.concat([patterns_sr, solutions], axis=1)\n",
    "\n",
    "# Load pkls (all_results_1_10.pkl, all_results_11_20.pkl, ..., all_results_91_100.pkl)\n",
    "results_1_10 = \"bootstrap_results/all_results_1_10.pkl\"\n",
    "results_11_20 = \"bootstrap_results/all_results_11_20.pkl\"\n",
    "results_21_30 = \"bootstrap_results/all_results_21_30.pkl\"\n",
    "results_31_40 = \"bootstrap_results/all_results_31_40.pkl\"\n",
    "results_41_50 = \"bootstrap_results/all_results_41_50.pkl\"\n",
    "results_51_60 = \"bootstrap_results/all_results_51_60.pkl\"\n",
    "results_61_70 = \"bootstrap_results/all_results_61_70.pkl\"\n",
    "results_71_80 = \"bootstrap_results/all_results_71_80.pkl\"\n",
    "results_81_90 = \"bootstrap_results/all_results_81_90.pkl\"\n",
    "results_91_100 = \"bootstrap_results/all_results_91_100.pkl\"\n",
    "\n",
    "# Load pickles of calculated AUCs\n",
    "with open(results_1_10, 'rb') as f:\n",
    "    dict_1_10 = pickle.load(f)\n",
    "\n",
    "with open(results_11_20, 'rb') as f:\n",
    "    dict_11_20 = pickle.load(f)\n",
    "\n",
    "with open(results_21_30, 'rb') as f:\n",
    "    dict_21_30 = pickle.load(f)\n",
    "\n",
    "with open(results_31_40, 'rb') as f:\n",
    "    dict_31_40 = pickle.load(f)\n",
    "\n",
    "with open(results_41_50, 'rb') as f:\n",
    "    dict_41_50 = pickle.load(f)\n",
    "\n",
    "with open(results_51_60, 'rb') as f:\n",
    "    dict_51_60 = pickle.load(f)\n",
    "\n",
    "with open(results_61_70, 'rb') as f:\n",
    "    dict_61_70 = pickle.load(f)\n",
    "\n",
    "with open(results_71_80, 'rb') as f:\n",
    "    dict_71_80 = pickle.load(f)\n",
    "\n",
    "with open(results_81_90, 'rb') as f:\n",
    "    dict_81_90 = pickle.load(f)\n",
    "\n",
    "with open(results_91_100, 'rb') as f:\n",
    "    dict_91_100 = pickle.load(f)\n",
    "\n",
    "# To dataframes\n",
    "df_1_10 = pd.DataFrame(columns=['Dataset', 'Candidate', 'Score'])\n",
    "for set in dict_1_10.keys():\n",
    "    buf_df = pd.DataFrame(\n",
    "        list(dict_1_10[set].items()), columns=['Candidate', 'Score'])\n",
    "    buf_df['Dataset'] = set\n",
    "    df_1_10 = pd.concat([df_1_10, buf_df], ignore_index=True)\n",
    "\n",
    "df_11_20 = pd.DataFrame(columns=['Dataset', 'Candidate', 'Score'])\n",
    "for set in dict_11_20.keys():\n",
    "    buf_df = pd.DataFrame(\n",
    "        list(dict_11_20[set].items()), columns=['Candidate', 'Score'])\n",
    "    buf_df['Dataset'] = set\n",
    "    df_11_20 = pd.concat([df_11_20, buf_df], ignore_index=True)\n",
    "\n",
    "df_21_30 = pd.DataFrame(columns=['Dataset', 'Candidate', 'Score'])\n",
    "for set in dict_21_30.keys():\n",
    "    buf_df = pd.DataFrame(\n",
    "        list(dict_21_30[set].items()), columns=['Candidate', 'Score'])\n",
    "    buf_df['Dataset'] = set\n",
    "    df_21_30 = pd.concat([df_21_30, buf_df], ignore_index=True)\n",
    "\n",
    "df_31_40 = pd.DataFrame(columns=['Dataset', 'Candidate', 'Score'])\n",
    "for set in dict_31_40.keys():\n",
    "    buf_df = pd.DataFrame(\n",
    "        list(dict_31_40[set].items()), columns=['Candidate', 'Score'])\n",
    "    buf_df['Dataset'] = set\n",
    "    df_31_40 = pd.concat([df_31_40, buf_df], ignore_index=True)\n",
    "\n",
    "df_41_50 = pd.DataFrame(columns=['Dataset', 'Candidate', 'Score'])\n",
    "for set in dict_41_50.keys():\n",
    "    buf_df = pd.DataFrame(\n",
    "        list(dict_41_50[set].items()), columns=['Candidate', 'Score'])\n",
    "    buf_df['Dataset'] = set\n",
    "    df_41_50 = pd.concat([df_41_50, buf_df], ignore_index=True)\n",
    "\n",
    "df_51_60 = pd.DataFrame(columns=['Dataset', 'Candidate', 'Score'])\n",
    "for set in dict_51_60.keys():\n",
    "    buf_df = pd.DataFrame(\n",
    "        list(dict_51_60[set].items()), columns=['Candidate', 'Score'])\n",
    "    buf_df['Dataset'] = set\n",
    "    df_51_60 = pd.concat([df_51_60, buf_df], ignore_index=True)\n",
    "\n",
    "df_61_70 = pd.DataFrame(columns=['Dataset', 'Candidate', 'Score'])\n",
    "for set in dict_61_70.keys():\n",
    "    buf_df = pd.DataFrame(\n",
    "        list(dict_61_70[set].items()), columns=['Candidate', 'Score'])\n",
    "    buf_df['Dataset'] = set\n",
    "    df_61_70 = pd.concat([df_61_70, buf_df], ignore_index=True)\n",
    "\n",
    "df_71_80 = pd.DataFrame(columns=['Dataset', 'Candidate', 'Score'])\n",
    "for set in dict_71_80.keys():\n",
    "    buf_df = pd.DataFrame(\n",
    "        list(dict_71_80[set].items()), columns=['Candidate', 'Score'])\n",
    "    buf_df['Dataset'] = set\n",
    "    df_71_80 = pd.concat([df_71_80, buf_df], ignore_index=True)\n",
    "\n",
    "df_81_90 = pd.DataFrame(columns=['Dataset', 'Candidate', 'Score'])\n",
    "for set in dict_81_90.keys():\n",
    "    buf_df = pd.DataFrame(\n",
    "        list(dict_81_90[set].items()), columns=['Candidate', 'Score'])\n",
    "    buf_df['Dataset'] = set\n",
    "    df_81_90 = pd.concat([df_81_90, buf_df], ignore_index=True)\n",
    "\n",
    "df_91_100 = pd.DataFrame(columns=['Dataset', 'Candidate', 'Score'])\n",
    "for set in dict_91_100.keys():\n",
    "    buf_df = pd.DataFrame(\n",
    "        list(dict_91_100[set].items()), columns=['Candidate', 'Score'])\n",
    "    buf_df['Dataset'] = set\n",
    "    df_91_100 = pd.concat([df_91_100, buf_df], ignore_index=True)\n",
    "\n",
    "# Concatenate all dataframes\n",
    "df_all = pd.concat([df_1_10, df_11_20, df_21_30, df_31_40, df_41_50, df_51_60, df_61_70, df_71_80, df_81_90, df_91_100], ignore_index=True)\n",
    "\n",
    "# Split the 'Score' column into 'auROC' and '95%CI'\n",
    "df_all['auROC'] = df_all['Score'].str.split(' ', expand=True)[0].astype(float)\n",
    "df_all['95%CI'] = df_all['Score'].str.split(' ', expand=True)[1]\n",
    "df_all['CI_lower'] = df_all['95%CI'].str.extract(r'(\\d\\.\\d*)').astype('float')\n",
    "df_all['CI_upper'] = df_all['95%CI'].str.extract(r'((?<=-)\\d\\.\\d*(?=]))').astype(float)\n",
    "df_all.drop(['Score', '95%CI'], axis=1, inplace=True)\n",
    "\n",
    "# Merge the two dataframes\n",
    "df = pd.merge(df_all, solutions, left_on='Candidate', right_on='Solution')\n",
    "df.drop('Solution', axis=1, inplace=True)\n",
    "\n",
    "# Calculate the sample variance of the scores for each solution\n",
    "df['SampleVariance'] = df.iloc[:, 5:20].var(axis=1, ddof=0)\n",
    "\n",
    "# Calculate the maximum scores for each solution\n",
    "ddf = df.groupby('Dataset')\n",
    "maxdf = df.loc[ddf['auROC'].idxmax(),:]\n",
    "\n",
    "# Replace 'Solution' to 'Pattern' in the 'Candidate' column\n",
    "df['Candidate'] = df['Candidate'].str.replace('Solution', 'Pattern')\n",
    "\n",
    "# Rename columns\n",
    "df.rename(columns={'Dataset': 'No. of Bootstrap',\n",
    "                   'CI_lower': '95%_CI_lower', 'CI_upper': '95%_CI_upper',\n",
    "                   'SampleVariance': 'Sample Variance',\n",
    "                   's1': 'Score 1', 's2': 'Score 2', 's3': 'Score 3', \n",
    "                   's4': 'Score 4', 's5': 'Score 5', 's6': 'Score 6', \n",
    "                   's7': 'Score 7', 's8': 'Score 8', 's9': 'Score 9', \n",
    "                   's10': 'Score 10', 's11': 'Score 11', 's12': 'Score 12', \n",
    "                   's13': 'Score 13', 's14': 'Score 14'}, inplace=True)\n",
    "\n",
    "bootstrap = 100\n",
    "set_max = []\n",
    "for i in range(1, bootstrap + 1):\n",
    "    set_max.append(df.loc[(df['No. of Bootstrap'] == i) & (df['auROC'] == maxdf.loc[maxdf['Dataset'] == i, 'auROC'].values[0]), :])\n",
    "\n",
    "best = {}\n",
    "for i in range(bootstrap):\n",
    "    highest_variance = set_max[i].loc[set_max[i]['Sample Variance'].idxmax(), 'Sample Variance']\n",
    "    # If other candidate has the same variance, add it to the \n",
    "    best[f'set {i + 1}'] = set_max[i].loc[set_max[i]['Sample Variance'] == highest_variance, 'Candidate'].values\n"
   ]
  },
  {
   "cell_type": "code",
   "execution_count": 54,
   "metadata": {},
   "outputs": [],
   "source": [
    "# Output set_max\n",
    "set_max_df = pd.concat(set_max)\n",
    "set_max_df = set_max_df[['No. of Bootstrap', 'Candidate', \n",
    "                         'Score 1', 'Score 2', 'Score 3', 'Score 4', 'Score 5',\n",
    "                         'Score 6', 'Score 7', 'Score 8', 'Score 9', 'Score 10',\n",
    "                         'Score 11', 'Score 12', 'Score 13', 'Score 14',\n",
    "                         'auROC', '95%_CI_lower', '95%_CI_upper', \n",
    "                         'Sample Variance']]\n",
    "# To xlsx\n",
    "set_max_df.to_excel('/Volumes/vol/work/Github/dev/ValidationData/AUC/bootstrap_results/set_max.xlsx', index=False)"
   ]
  },
  {
   "cell_type": "code",
   "execution_count": 55,
   "metadata": {},
   "outputs": [],
   "source": [
    "# Output solutions as xlsx\n",
    "solutions.to_excel('/Volumes/vol/work/Github/dev/ValidationData/AUC/bootstrap_results/solutions.xlsx', index=False)"
   ]
  },
  {
   "cell_type": "code",
   "execution_count": 8,
   "metadata": {},
   "outputs": [
    {
     "data": {
      "application/vnd.plotly.v1+json": {
       "config": {
        "plotlyServerURL": "https://plot.ly"
       },
       "data": [
        {
         "marker": {
          "color": "#E0806E",
          "size": 4
         },
         "mode": "markers",
         "name": "CI upper",
         "type": "scatter",
         "x": [
          1,
          2,
          3,
          4,
          5,
          6,
          7,
          8,
          9,
          10,
          11,
          12,
          13,
          14,
          15,
          16,
          17,
          18,
          19,
          20,
          21,
          22,
          23,
          24,
          25,
          26,
          27,
          28,
          29,
          30,
          31,
          32,
          33,
          34,
          35,
          36,
          37,
          38,
          39,
          40,
          41,
          42,
          43,
          44,
          45,
          46,
          47,
          48,
          49,
          50,
          51,
          52,
          53,
          54,
          55,
          56,
          57,
          58,
          59,
          60,
          61,
          62,
          63,
          64,
          65,
          66,
          67,
          68,
          69,
          70,
          71,
          72,
          73,
          74,
          75,
          76,
          77,
          78,
          79,
          80,
          81,
          82,
          83,
          84,
          85,
          86,
          87,
          88,
          89,
          90,
          91,
          92,
          93,
          94,
          95,
          96,
          97,
          98,
          99,
          100
         ],
         "y": [
          0.996815572609,
          0.99674265472,
          0.99645589024,
          0.99671674138,
          0.996773067105,
          0.996428681781,
          0.996506682441,
          0.996465184673,
          0.996497148261,
          0.996618273708,
          0.996515434986,
          0.996659517532,
          0.996612315545,
          0.996509883212,
          0.996466315829,
          0.996508216509,
          0.996536622136,
          0.996656103633,
          0.996727817755,
          0.996702631802,
          0.99661888805,
          0.99640052872,
          0.99652499281,
          0.996550118654,
          0.996525945229,
          0.996613514465,
          0.996576900839,
          0.99659977946,
          0.996575703581,
          0.996839289652,
          0.996518432358,
          0.996458255492,
          0.996626975103,
          0.996352201063,
          0.996612986206,
          0.996677700579,
          0.996376376998,
          0.996515134366,
          0.996665773973,
          0.996534808174,
          0.996505369033,
          0.996562564412,
          0.996475645752,
          0.996684967707,
          0.996377358782,
          0.996702452703,
          0.996568329266,
          0.996626925654,
          0.996522864735,
          0.996597829876,
          0.996720759388,
          0.996530112293,
          0.996441728783,
          0.996548847034,
          0.996543405493,
          0.996690745013,
          0.996688928057,
          0.996499728887,
          0.996453832219,
          0.996598289509,
          0.996542373337,
          0.996597408727,
          0.996434840353,
          0.996484511286,
          0.996467077526,
          0.996605316356,
          0.996752784011,
          0.996440400636,
          0.996666427698,
          0.99653411385,
          0.996529635052,
          0.99658625239,
          0.996522640609,
          0.996498568424,
          0.996532648142,
          0.996523397811,
          0.996650506471,
          0.996431716285,
          0.996621615473,
          0.99640265299,
          0.996588165484,
          0.996726110975,
          0.996705059374,
          0.996455244891,
          0.996537844712,
          0.996592351386,
          0.996430960114,
          0.996693582125,
          0.996527390064,
          0.996527032403,
          0.996503372831,
          0.996647220852,
          0.996477793147,
          0.996787739797,
          0.996492889921,
          0.996516994396,
          0.996584551771,
          0.996471279024,
          0.996552595821,
          0.99671724436
         ]
        },
        {
         "marker": {
          "color": "#E0806E",
          "size": 4
         },
         "mode": "markers",
         "name": "CI lower",
         "type": "scatter",
         "x": [
          1,
          2,
          3,
          4,
          5,
          6,
          7,
          8,
          9,
          10,
          11,
          12,
          13,
          14,
          15,
          16,
          17,
          18,
          19,
          20,
          21,
          22,
          23,
          24,
          25,
          26,
          27,
          28,
          29,
          30,
          31,
          32,
          33,
          34,
          35,
          36,
          37,
          38,
          39,
          40,
          41,
          42,
          43,
          44,
          45,
          46,
          47,
          48,
          49,
          50,
          51,
          52,
          53,
          54,
          55,
          56,
          57,
          58,
          59,
          60,
          61,
          62,
          63,
          64,
          65,
          66,
          67,
          68,
          69,
          70,
          71,
          72,
          73,
          74,
          75,
          76,
          77,
          78,
          79,
          80,
          81,
          82,
          83,
          84,
          85,
          86,
          87,
          88,
          89,
          90,
          91,
          92,
          93,
          94,
          95,
          96,
          97,
          98,
          99,
          100
         ],
         "y": [
          0.995381968827,
          0.995271754089,
          0.994881514667,
          0.995230794085,
          0.995321140296,
          0.994853795955,
          0.994965476069,
          0.994892082223,
          0.994939501219,
          0.995111976253,
          0.99497407017,
          0.995155139958,
          0.995122184986,
          0.994955179428,
          0.994907822789,
          0.994951600917,
          0.995012430046,
          0.995134839994,
          0.995241428008,
          0.995231496355,
          0.995113008184,
          0.994823740207,
          0.994984005668,
          0.995026433577,
          0.994985762328,
          0.995090863011,
          0.995053554893,
          0.995093248134,
          0.995037492781,
          0.995406616096,
          0.994976091797,
          0.994884966891,
          0.995121732993,
          0.994760117046,
          0.995090959435,
          0.995173013532,
          0.994783380276,
          0.994958892128,
          0.995161504966,
          0.995009523834,
          0.994948579138,
          0.995022802144,
          0.994901447928,
          0.995196595767,
          0.994786434146,
          0.995214969044,
          0.995044401115,
          0.995120075892,
          0.994982671444,
          0.995076406972,
          0.995233994951,
          0.994989213522,
          0.994867033805,
          0.995009298806,
          0.995018699986,
          0.995187895969,
          0.995186157729,
          0.994957470681,
          0.994895177402,
          0.995090920992,
          0.995003018284,
          0.99507360477,
          0.994859895722,
          0.994926345193,
          0.994909112312,
          0.995098211119,
          0.995284294197,
          0.994865118086,
          0.995178072351,
          0.994993589581,
          0.994989192942,
          0.995061858579,
          0.994966081198,
          0.994956642335,
          0.994991738611,
          0.994981312337,
          0.995145087244,
          0.994856536134,
          0.995114375766,
          0.994812391814,
          0.995065092117,
          0.995240081739,
          0.995216968343,
          0.994882185122,
          0.994997252825,
          0.995070231073,
          0.994855971661,
          0.995206846272,
          0.99497137585,
          0.995001683329,
          0.9949606961,
          0.995158658112,
          0.994919959822,
          0.995337392289,
          0.994934991831,
          0.994974956213,
          0.995061208784,
          0.994898395618,
          0.99499685807,
          0.995214953044
         ]
        },
        {
         "marker": {
          "color": "#E0806E",
          "size": 8
         },
         "mode": "markers",
         "name": "Best candidate",
         "type": "scatter",
         "x": [
          1
         ],
         "y": [
          0.9960987707
         ]
        },
        {
         "marker": {
          "color": "#E0806E",
          "size": 8
         },
         "mode": "markers",
         "name": "Best candidate",
         "type": "scatter",
         "x": [
          2
         ],
         "y": [
          0.9960072044
         ]
        },
        {
         "marker": {
          "color": "#E0806E",
          "size": 8
         },
         "mode": "markers",
         "name": "Best candidate",
         "type": "scatter",
         "x": [
          3
         ],
         "y": [
          0.9956687025
         ]
        },
        {
         "marker": {
          "color": "#E0806E",
          "size": 8
         },
         "mode": "markers",
         "name": "Best candidate",
         "type": "scatter",
         "x": [
          4
         ],
         "y": [
          0.9959737677
         ]
        },
        {
         "marker": {
          "color": "#E0806E",
          "size": 8
         },
         "mode": "markers",
         "name": "Best candidate",
         "type": "scatter",
         "x": [
          5
         ],
         "y": [
          0.9960471037
         ]
        },
        {
         "marker": {
          "color": "#E0806E",
          "size": 8
         },
         "mode": "markers",
         "name": "Best candidate",
         "type": "scatter",
         "x": [
          6
         ],
         "y": [
          0.9956412389
         ]
        },
        {
         "marker": {
          "color": "#E0806E",
          "size": 8
         },
         "mode": "markers",
         "name": "Best candidate",
         "type": "scatter",
         "x": [
          7
         ],
         "y": [
          0.9957360793
         ]
        },
        {
         "marker": {
          "color": "#E0806E",
          "size": 8
         },
         "mode": "markers",
         "name": "Best candidate",
         "type": "scatter",
         "x": [
          8
         ],
         "y": [
          0.9956786334
         ]
        },
        {
         "marker": {
          "color": "#E0806E",
          "size": 8
         },
         "mode": "markers",
         "name": "Best candidate",
         "type": "scatter",
         "x": [
          9
         ],
         "y": [
          0.9957183247
         ]
        },
        {
         "marker": {
          "color": "#E0806E",
          "size": 8
         },
         "mode": "markers",
         "name": "Best candidate",
         "type": "scatter",
         "x": [
          10
         ],
         "y": [
          0.995865125
         ]
        },
        {
         "marker": {
          "color": "#E0806E",
          "size": 8
         },
         "mode": "markers",
         "name": "Best candidate",
         "type": "scatter",
         "x": [
          11
         ],
         "y": [
          0.9957447526
         ]
        },
        {
         "marker": {
          "color": "#E0806E",
          "size": 8
         },
         "mode": "markers",
         "name": "Best candidate",
         "type": "scatter",
         "x": [
          12
         ],
         "y": [
          0.9959073287
         ]
        },
        {
         "marker": {
          "color": "#E0806E",
          "size": 8
         },
         "mode": "markers",
         "name": "Best candidate",
         "type": "scatter",
         "x": [
          13
         ],
         "y": [
          0.9958672503
         ]
        },
        {
         "marker": {
          "color": "#E0806E",
          "size": 8
         },
         "mode": "markers",
         "name": "Best candidate",
         "type": "scatter",
         "x": [
          14
         ],
         "y": [
          0.9957325313
         ]
        },
        {
         "marker": {
          "color": "#E0806E",
          "size": 8
         },
         "mode": "markers",
         "name": "Best candidate",
         "type": "scatter",
         "x": [
          15
         ],
         "y": [
          0.9956870693
         ]
        },
        {
         "marker": {
          "color": "#E0806E",
          "size": 8
         },
         "mode": "markers",
         "name": "Best candidate",
         "type": "scatter",
         "x": [
          16
         ],
         "y": [
          0.9957299087
         ]
        },
        {
         "marker": {
          "color": "#E0806E",
          "size": 8
         },
         "mode": "markers",
         "name": "Best candidate",
         "type": "scatter",
         "x": [
          17
         ],
         "y": [
          0.9957745261
         ]
        },
        {
         "marker": {
          "color": "#E0806E",
          "size": 8
         },
         "mode": "markers",
         "name": "Best candidate",
         "type": "scatter",
         "x": [
          18
         ],
         "y": [
          0.9958954718
         ]
        },
        {
         "marker": {
          "color": "#E0806E",
          "size": 8
         },
         "mode": "markers",
         "name": "Best candidate",
         "type": "scatter",
         "x": [
          19
         ],
         "y": [
          0.9959846229
         ]
        },
        {
         "marker": {
          "color": "#E0806E",
          "size": 8
         },
         "mode": "markers",
         "name": "Best candidate",
         "type": "scatter",
         "x": [
          20
         ],
         "y": [
          0.9959670641
         ]
        },
        {
         "marker": {
          "color": "#E0806E",
          "size": 8
         },
         "mode": "markers",
         "name": "Best candidate",
         "type": "scatter",
         "x": [
          21
         ],
         "y": [
          0.9958659481
         ]
        },
        {
         "marker": {
          "color": "#E0806E",
          "size": 8
         },
         "mode": "markers",
         "name": "Best candidate",
         "type": "scatter",
         "x": [
          22
         ],
         "y": [
          0.9956121345
         ]
        },
        {
         "marker": {
          "color": "#E0806E",
          "size": 8
         },
         "mode": "markers",
         "name": "Best candidate",
         "type": "scatter",
         "x": [
          23
         ],
         "y": [
          0.9957544992
         ]
        },
        {
         "marker": {
          "color": "#E0806E",
          "size": 8
         },
         "mode": "markers",
         "name": "Best candidate",
         "type": "scatter",
         "x": [
          24
         ],
         "y": [
          0.9957882761
         ]
        },
        {
         "marker": {
          "color": "#E0806E",
          "size": 8
         },
         "mode": "markers",
         "name": "Best candidate",
         "type": "scatter",
         "x": [
          25
         ],
         "y": [
          0.9957558538
         ]
        },
        {
         "marker": {
          "color": "#E0806E",
          "size": 8
         },
         "mode": "markers",
         "name": "Best candidate",
         "type": "scatter",
         "x": [
          26
         ],
         "y": [
          0.9958521887
         ]
        },
        {
         "marker": {
          "color": "#E0806E",
          "size": 8
         },
         "mode": "markers",
         "name": "Best candidate",
         "type": "scatter",
         "x": [
          27
         ],
         "y": [
          0.9958152279
         ]
        },
        {
         "marker": {
          "color": "#E0806E",
          "size": 8
         },
         "mode": "markers",
         "name": "Best candidate",
         "type": "scatter",
         "x": [
          28
         ],
         "y": [
          0.9958465138
         ]
        },
        {
         "marker": {
          "color": "#E0806E",
          "size": 8
         },
         "mode": "markers",
         "name": "Best candidate",
         "type": "scatter",
         "x": [
          29
         ],
         "y": [
          0.9958065982
         ]
        },
        {
         "marker": {
          "color": "#E0806E",
          "size": 8
         },
         "mode": "markers",
         "name": "Best candidate",
         "type": "scatter",
         "x": [
          30
         ],
         "y": [
          0.9961229529
         ]
        },
        {
         "marker": {
          "color": "#E0806E",
          "size": 8
         },
         "mode": "markers",
         "name": "Best candidate",
         "type": "scatter",
         "x": [
          31
         ],
         "y": [
          0.9957472621
         ]
        },
        {
         "marker": {
          "color": "#E0806E",
          "size": 8
         },
         "mode": "markers",
         "name": "Best candidate",
         "type": "scatter",
         "x": [
          32
         ],
         "y": [
          0.9956716112
         ]
        },
        {
         "marker": {
          "color": "#E0806E",
          "size": 8
         },
         "mode": "markers",
         "name": "Best candidate",
         "type": "scatter",
         "x": [
          33
         ],
         "y": [
          0.995874354
         ]
        },
        {
         "marker": {
          "color": "#E0806E",
          "size": 8
         },
         "mode": "markers",
         "name": "Best candidate",
         "type": "scatter",
         "x": [
          34
         ],
         "y": [
          0.9955561591
         ]
        },
        {
         "marker": {
          "color": "#E0806E",
          "size": 8
         },
         "mode": "markers",
         "name": "Best candidate",
         "type": "scatter",
         "x": [
          35
         ],
         "y": [
          0.9958519728
         ]
        },
        {
         "marker": {
          "color": "#E0806E",
          "size": 8
         },
         "mode": "markers",
         "name": "Best candidate",
         "type": "scatter",
         "x": [
          36
         ],
         "y": [
          0.9959253571
         ]
        },
        {
         "marker": {
          "color": "#E0806E",
          "size": 8
         },
         "mode": "markers",
         "name": "Best candidate",
         "type": "scatter",
         "x": [
          37
         ],
         "y": [
          0.9955798786
         ]
        },
        {
         "marker": {
          "color": "#E0806E",
          "size": 8
         },
         "mode": "markers",
         "name": "Best candidate",
         "type": "scatter",
         "x": [
          38
         ],
         "y": [
          0.9957370132
         ]
        },
        {
         "marker": {
          "color": "#E0806E",
          "size": 8
         },
         "mode": "markers",
         "name": "Best candidate",
         "type": "scatter",
         "x": [
          39
         ],
         "y": [
          0.9959136395
         ]
        },
        {
         "marker": {
          "color": "#E0806E",
          "size": 8
         },
         "mode": "markers",
         "name": "Best candidate",
         "type": "scatter",
         "x": [
          40
         ],
         "y": [
          0.995772166
         ]
        },
        {
         "marker": {
          "color": "#E0806E",
          "size": 8
         },
         "mode": "markers",
         "name": "Best candidate",
         "type": "scatter",
         "x": [
          41
         ],
         "y": [
          0.9957269741
         ]
        },
        {
         "marker": {
          "color": "#E0806E",
          "size": 8
         },
         "mode": "markers",
         "name": "Best candidate",
         "type": "scatter",
         "x": [
          42
         ],
         "y": [
          0.9957926833
         ]
        },
        {
         "marker": {
          "color": "#E0806E",
          "size": 8
         },
         "mode": "markers",
         "name": "Best candidate",
         "type": "scatter",
         "x": [
          43
         ],
         "y": [
          0.9956885468
         ]
        },
        {
         "marker": {
          "color": "#E0806E",
          "size": 8
         },
         "mode": "markers",
         "name": "Best candidate",
         "type": "scatter",
         "x": [
          44
         ],
         "y": [
          0.9959407817
         ]
        },
        {
         "marker": {
          "color": "#E0806E",
          "size": 8
         },
         "mode": "markers",
         "name": "Best candidate",
         "type": "scatter",
         "x": [
          45
         ],
         "y": [
          0.9955818965
         ]
        },
        {
         "marker": {
          "color": "#E0806E",
          "size": 8
         },
         "mode": "markers",
         "name": "Best candidate",
         "type": "scatter",
         "x": [
          46
         ],
         "y": [
          0.9959587109
         ]
        },
        {
         "marker": {
          "color": "#E0806E",
          "size": 8
         },
         "mode": "markers",
         "name": "Best candidate",
         "type": "scatter",
         "x": [
          47
         ],
         "y": [
          0.9958063652
         ]
        },
        {
         "marker": {
          "color": "#E0806E",
          "size": 8
         },
         "mode": "markers",
         "name": "Best candidate",
         "type": "scatter",
         "x": [
          48
         ],
         "y": [
          0.9958735008
         ]
        },
        {
         "marker": {
          "color": "#E0806E",
          "size": 8
         },
         "mode": "markers",
         "name": "Best candidate",
         "type": "scatter",
         "x": [
          49
         ],
         "y": [
          0.9957527681
         ]
        },
        {
         "marker": {
          "color": "#E0806E",
          "size": 8
         },
         "mode": "markers",
         "name": "Best candidate",
         "type": "scatter",
         "x": [
          50
         ],
         "y": [
          0.9958371184
         ]
        },
        {
         "marker": {
          "color": "#E0806E",
          "size": 8
         },
         "mode": "markers",
         "name": "Best candidate",
         "type": "scatter",
         "x": [
          51
         ],
         "y": [
          0.9959773772
         ]
        },
        {
         "marker": {
          "color": "#E0806E",
          "size": 8
         },
         "mode": "markers",
         "name": "Best candidate",
         "type": "scatter",
         "x": [
          52
         ],
         "y": [
          0.9957596629
         ]
        },
        {
         "marker": {
          "color": "#E0806E",
          "size": 8
         },
         "mode": "markers",
         "name": "Best candidate",
         "type": "scatter",
         "x": [
          53
         ],
         "y": [
          0.9956543813
         ]
        },
        {
         "marker": {
          "color": "#E0806E",
          "size": 8
         },
         "mode": "markers",
         "name": "Best candidate",
         "type": "scatter",
         "x": [
          54
         ],
         "y": [
          0.9957790729
         ]
        },
        {
         "marker": {
          "color": "#E0806E",
          "size": 8
         },
         "mode": "markers",
         "name": "Best candidate",
         "type": "scatter",
         "x": [
          55
         ],
         "y": [
          0.9957810527
         ]
        },
        {
         "marker": {
          "color": "#E0806E",
          "size": 8
         },
         "mode": "markers",
         "name": "Best candidate",
         "type": "scatter",
         "x": [
          56
         ],
         "y": [
          0.9959393205
         ]
        },
        {
         "marker": {
          "color": "#E0806E",
          "size": 8
         },
         "mode": "markers",
         "name": "Best candidate",
         "type": "scatter",
         "x": [
          57
         ],
         "y": [
          0.9959375429
         ]
        },
        {
         "marker": {
          "color": "#E0806E",
          "size": 8
         },
         "mode": "markers",
         "name": "Best candidate",
         "type": "scatter",
         "x": [
          58
         ],
         "y": [
          0.9957285998
         ]
        },
        {
         "marker": {
          "color": "#E0806E",
          "size": 8
         },
         "mode": "markers",
         "name": "Best candidate",
         "type": "scatter",
         "x": [
          59
         ],
         "y": [
          0.9956745048
         ]
        },
        {
         "marker": {
          "color": "#E0806E",
          "size": 8
         },
         "mode": "markers",
         "name": "Best candidate",
         "type": "scatter",
         "x": [
          60
         ],
         "y": [
          0.9958446053
         ]
        },
        {
         "marker": {
          "color": "#E0806E",
          "size": 8
         },
         "mode": "markers",
         "name": "Best candidate",
         "type": "scatter",
         "x": [
          61
         ],
         "y": [
          0.9957726958
         ]
        },
        {
         "marker": {
          "color": "#E0806E",
          "size": 8
         },
         "mode": "markers",
         "name": "Best candidate",
         "type": "scatter",
         "x": [
          62
         ],
         "y": [
          0.9958355067
         ]
        },
        {
         "marker": {
          "color": "#E0806E",
          "size": 8
         },
         "mode": "markers",
         "name": "Best candidate",
         "type": "scatter",
         "x": [
          63
         ],
         "y": [
          0.995647368
         ]
        },
        {
         "marker": {
          "color": "#E0806E",
          "size": 8
         },
         "mode": "markers",
         "name": "Best candidate",
         "type": "scatter",
         "x": [
          64
         ],
         "y": [
          0.9957054282
         ]
        },
        {
         "marker": {
          "color": "#E0806E",
          "size": 8
         },
         "mode": "markers",
         "name": "Best candidate",
         "type": "scatter",
         "x": [
          65
         ],
         "y": [
          0.9956880949
         ]
        },
        {
         "marker": {
          "color": "#E0806E",
          "size": 8
         },
         "mode": "markers",
         "name": "Best candidate",
         "type": "scatter",
         "x": [
          66
         ],
         "y": [
          0.9958517637
         ]
        },
        {
         "marker": {
          "color": "#E0806E",
          "size": 8
         },
         "mode": "markers",
         "name": "Best candidate",
         "type": "scatter",
         "x": [
          67
         ],
         "y": [
          0.9960185391
         ]
        },
        {
         "marker": {
          "color": "#E0806E",
          "size": 8
         },
         "mode": "markers",
         "name": "Best candidate",
         "type": "scatter",
         "x": [
          68
         ],
         "y": [
          0.9956527594
         ]
        },
        {
         "marker": {
          "color": "#E0806E",
          "size": 8
         },
         "mode": "markers",
         "name": "Best candidate",
         "type": "scatter",
         "x": [
          69
         ],
         "y": [
          0.99592225
         ]
        },
        {
         "marker": {
          "color": "#E0806E",
          "size": 8
         },
         "mode": "markers",
         "name": "Best candidate",
         "type": "scatter",
         "x": [
          70
         ],
         "y": [
          0.9957638517
         ]
        },
        {
         "marker": {
          "color": "#E0806E",
          "size": 8
         },
         "mode": "markers",
         "name": "Best candidate",
         "type": "scatter",
         "x": [
          71
         ],
         "y": [
          0.995759414
         ]
        },
        {
         "marker": {
          "color": "#E0806E",
          "size": 8
         },
         "mode": "markers",
         "name": "Best candidate",
         "type": "scatter",
         "x": [
          72
         ],
         "y": [
          0.9958240555
         ]
        },
        {
         "marker": {
          "color": "#E0806E",
          "size": 8
         },
         "mode": "markers",
         "name": "Best candidate",
         "type": "scatter",
         "x": [
          73
         ],
         "y": [
          0.9957443609
         ]
        },
        {
         "marker": {
          "color": "#E0806E",
          "size": 8
         },
         "mode": "markers",
         "name": "Best candidate",
         "type": "scatter",
         "x": [
          74
         ],
         "y": [
          0.9957276054
         ]
        },
        {
         "marker": {
          "color": "#E0806E",
          "size": 8
         },
         "mode": "markers",
         "name": "Best candidate",
         "type": "scatter",
         "x": [
          75
         ],
         "y": [
          0.9957621934
         ]
        },
        {
         "marker": {
          "color": "#E0806E",
          "size": 8
         },
         "mode": "markers",
         "name": "Best candidate",
         "type": "scatter",
         "x": [
          76
         ],
         "y": [
          0.9957523551
         ]
        },
        {
         "marker": {
          "color": "#E0806E",
          "size": 8
         },
         "mode": "markers",
         "name": "Best candidate",
         "type": "scatter",
         "x": [
          77
         ],
         "y": [
          0.9958977969
         ]
        },
        {
         "marker": {
          "color": "#E0806E",
          "size": 8
         },
         "mode": "markers",
         "name": "Best candidate",
         "type": "scatter",
         "x": [
          78
         ],
         "y": [
          0.9956441262
         ]
        },
        {
         "marker": {
          "color": "#E0806E",
          "size": 8
         },
         "mode": "markers",
         "name": "Best candidate",
         "type": "scatter",
         "x": [
          79
         ],
         "y": [
          0.9958679956
         ]
        },
        {
         "marker": {
          "color": "#E0806E",
          "size": 8
         },
         "mode": "markers",
         "name": "Best candidate",
         "type": "scatter",
         "x": [
          80
         ],
         "y": [
          0.9956075224
         ]
        },
        {
         "marker": {
          "color": "#E0806E",
          "size": 8
         },
         "mode": "markers",
         "name": "Best candidate",
         "type": "scatter",
         "x": [
          81
         ],
         "y": [
          0.9958266288
         ]
        },
        {
         "marker": {
          "color": "#E0806E",
          "size": 8
         },
         "mode": "markers",
         "name": "Best candidate",
         "type": "scatter",
         "x": [
          82
         ],
         "y": [
          0.9959830964
         ]
        },
        {
         "marker": {
          "color": "#E0806E",
          "size": 8
         },
         "mode": "markers",
         "name": "Best candidate",
         "type": "scatter",
         "x": [
          83
         ],
         "y": [
          0.9959610139
         ]
        },
        {
         "marker": {
          "color": "#E0806E",
          "size": 8
         },
         "mode": "markers",
         "name": "Best candidate",
         "type": "scatter",
         "x": [
          84
         ],
         "y": [
          0.995668715
         ]
        },
        {
         "marker": {
          "color": "#E0806E",
          "size": 8
         },
         "mode": "markers",
         "name": "Best candidate",
         "type": "scatter",
         "x": [
          85
         ],
         "y": [
          0.9957675488
         ]
        },
        {
         "marker": {
          "color": "#E0806E",
          "size": 8
         },
         "mode": "markers",
         "name": "Best candidate",
         "type": "scatter",
         "x": [
          86
         ],
         "y": [
          0.9958312912
         ]
        },
        {
         "marker": {
          "color": "#E0806E",
          "size": 8
         },
         "mode": "markers",
         "name": "Best candidate",
         "type": "scatter",
         "x": [
          87
         ],
         "y": [
          0.9956434659
         ]
        },
        {
         "marker": {
          "color": "#E0806E",
          "size": 8
         },
         "mode": "markers",
         "name": "Best candidate",
         "type": "scatter",
         "x": [
          88
         ],
         "y": [
          0.9959502142
         ]
        },
        {
         "marker": {
          "color": "#E0806E",
          "size": 8
         },
         "mode": "markers",
         "name": "Best candidate",
         "type": "scatter",
         "x": [
          89
         ],
         "y": [
          0.995749383
         ]
        },
        {
         "marker": {
          "color": "#E0806E",
          "size": 8
         },
         "mode": "markers",
         "name": "Best candidate",
         "type": "scatter",
         "x": [
          90
         ],
         "y": [
          0.9957643579
         ]
        },
        {
         "marker": {
          "color": "#E0806E",
          "size": 8
         },
         "mode": "markers",
         "name": "Best candidate",
         "type": "scatter",
         "x": [
          91
         ],
         "y": [
          0.9957320345
         ]
        },
        {
         "marker": {
          "color": "#E0806E",
          "size": 8
         },
         "mode": "markers",
         "name": "Best candidate",
         "type": "scatter",
         "x": [
          92
         ],
         "y": [
          0.9959029395
         ]
        },
        {
         "marker": {
          "color": "#E0806E",
          "size": 8
         },
         "mode": "markers",
         "name": "Best candidate",
         "type": "scatter",
         "x": [
          93
         ],
         "y": [
          0.9956988765
         ]
        },
        {
         "marker": {
          "color": "#E0806E",
          "size": 8
         },
         "mode": "markers",
         "name": "Best candidate",
         "type": "scatter",
         "x": [
          94
         ],
         "y": [
          0.996062566
         ]
        },
        {
         "marker": {
          "color": "#E0806E",
          "size": 8
         },
         "mode": "markers",
         "name": "Best candidate",
         "type": "scatter",
         "x": [
          95
         ],
         "y": [
          0.9957139409
         ]
        },
        {
         "marker": {
          "color": "#E0806E",
          "size": 8
         },
         "mode": "markers",
         "name": "Best candidate",
         "type": "scatter",
         "x": [
          96
         ],
         "y": [
          0.9957459753
         ]
        },
        {
         "marker": {
          "color": "#E0806E",
          "size": 8
         },
         "mode": "markers",
         "name": "Best candidate",
         "type": "scatter",
         "x": [
          97
         ],
         "y": [
          0.9958228803
         ]
        },
        {
         "marker": {
          "color": "#E0806E",
          "size": 8
         },
         "mode": "markers",
         "name": "Best candidate",
         "type": "scatter",
         "x": [
          98
         ],
         "y": [
          0.9956848373
         ]
        },
        {
         "marker": {
          "color": "#E0806E",
          "size": 8
         },
         "mode": "markers",
         "name": "Best candidate",
         "type": "scatter",
         "x": [
          99
         ],
         "y": [
          0.9957747269
         ]
        },
        {
         "marker": {
          "color": "#E0806E",
          "size": 8
         },
         "mode": "markers",
         "name": "Best candidate",
         "type": "scatter",
         "x": [
          100
         ],
         "y": [
          0.9959660987
         ]
        }
       ],
       "layout": {
        "font": {
         "size": 21
        },
        "height": 600,
        "shapes": [
         {
          "line": {
           "color": "red",
           "width": 1.5
          },
          "type": "line",
          "x0": 1,
          "x1": 1,
          "y0": 0.996815572609,
          "y1": 0.995381968827
         },
         {
          "line": {
           "color": "red",
           "width": 1.5
          },
          "type": "line",
          "x0": 2,
          "x1": 2,
          "y0": 0.99674265472,
          "y1": 0.995271754089
         },
         {
          "line": {
           "color": "red",
           "width": 1.5
          },
          "type": "line",
          "x0": 3,
          "x1": 3,
          "y0": 0.99645589024,
          "y1": 0.994881514667
         },
         {
          "line": {
           "color": "red",
           "width": 1.5
          },
          "type": "line",
          "x0": 4,
          "x1": 4,
          "y0": 0.99671674138,
          "y1": 0.995230794085
         },
         {
          "line": {
           "color": "red",
           "width": 1.5
          },
          "type": "line",
          "x0": 5,
          "x1": 5,
          "y0": 0.996773067105,
          "y1": 0.995321140296
         },
         {
          "line": {
           "color": "red",
           "width": 1.5
          },
          "type": "line",
          "x0": 6,
          "x1": 6,
          "y0": 0.996428681781,
          "y1": 0.994853795955
         },
         {
          "line": {
           "color": "red",
           "width": 1.5
          },
          "type": "line",
          "x0": 7,
          "x1": 7,
          "y0": 0.996506682441,
          "y1": 0.994965476069
         },
         {
          "line": {
           "color": "red",
           "width": 1.5
          },
          "type": "line",
          "x0": 8,
          "x1": 8,
          "y0": 0.996465184673,
          "y1": 0.994892082223
         },
         {
          "line": {
           "color": "red",
           "width": 1.5
          },
          "type": "line",
          "x0": 9,
          "x1": 9,
          "y0": 0.996497148261,
          "y1": 0.994939501219
         },
         {
          "line": {
           "color": "red",
           "width": 1.5
          },
          "type": "line",
          "x0": 10,
          "x1": 10,
          "y0": 0.996618273708,
          "y1": 0.995111976253
         },
         {
          "line": {
           "color": "red",
           "width": 1.5
          },
          "type": "line",
          "x0": 11,
          "x1": 11,
          "y0": 0.996515434986,
          "y1": 0.99497407017
         },
         {
          "line": {
           "color": "red",
           "width": 1.5
          },
          "type": "line",
          "x0": 12,
          "x1": 12,
          "y0": 0.996659517532,
          "y1": 0.995155139958
         },
         {
          "line": {
           "color": "red",
           "width": 1.5
          },
          "type": "line",
          "x0": 13,
          "x1": 13,
          "y0": 0.996612315545,
          "y1": 0.995122184986
         },
         {
          "line": {
           "color": "red",
           "width": 1.5
          },
          "type": "line",
          "x0": 14,
          "x1": 14,
          "y0": 0.996509883212,
          "y1": 0.994955179428
         },
         {
          "line": {
           "color": "red",
           "width": 1.5
          },
          "type": "line",
          "x0": 15,
          "x1": 15,
          "y0": 0.996466315829,
          "y1": 0.994907822789
         },
         {
          "line": {
           "color": "red",
           "width": 1.5
          },
          "type": "line",
          "x0": 16,
          "x1": 16,
          "y0": 0.996508216509,
          "y1": 0.994951600917
         },
         {
          "line": {
           "color": "red",
           "width": 1.5
          },
          "type": "line",
          "x0": 17,
          "x1": 17,
          "y0": 0.996536622136,
          "y1": 0.995012430046
         },
         {
          "line": {
           "color": "red",
           "width": 1.5
          },
          "type": "line",
          "x0": 18,
          "x1": 18,
          "y0": 0.996656103633,
          "y1": 0.995134839994
         },
         {
          "line": {
           "color": "red",
           "width": 1.5
          },
          "type": "line",
          "x0": 19,
          "x1": 19,
          "y0": 0.996727817755,
          "y1": 0.995241428008
         },
         {
          "line": {
           "color": "red",
           "width": 1.5
          },
          "type": "line",
          "x0": 20,
          "x1": 20,
          "y0": 0.996702631802,
          "y1": 0.995231496355
         },
         {
          "line": {
           "color": "red",
           "width": 1.5
          },
          "type": "line",
          "x0": 21,
          "x1": 21,
          "y0": 0.99661888805,
          "y1": 0.995113008184
         },
         {
          "line": {
           "color": "red",
           "width": 1.5
          },
          "type": "line",
          "x0": 22,
          "x1": 22,
          "y0": 0.99640052872,
          "y1": 0.994823740207
         },
         {
          "line": {
           "color": "red",
           "width": 1.5
          },
          "type": "line",
          "x0": 23,
          "x1": 23,
          "y0": 0.99652499281,
          "y1": 0.994984005668
         },
         {
          "line": {
           "color": "red",
           "width": 1.5
          },
          "type": "line",
          "x0": 24,
          "x1": 24,
          "y0": 0.996550118654,
          "y1": 0.995026433577
         },
         {
          "line": {
           "color": "red",
           "width": 1.5
          },
          "type": "line",
          "x0": 25,
          "x1": 25,
          "y0": 0.996525945229,
          "y1": 0.994985762328
         },
         {
          "line": {
           "color": "red",
           "width": 1.5
          },
          "type": "line",
          "x0": 26,
          "x1": 26,
          "y0": 0.996613514465,
          "y1": 0.995090863011
         },
         {
          "line": {
           "color": "red",
           "width": 1.5
          },
          "type": "line",
          "x0": 27,
          "x1": 27,
          "y0": 0.996576900839,
          "y1": 0.995053554893
         },
         {
          "line": {
           "color": "red",
           "width": 1.5
          },
          "type": "line",
          "x0": 28,
          "x1": 28,
          "y0": 0.99659977946,
          "y1": 0.995093248134
         },
         {
          "line": {
           "color": "red",
           "width": 1.5
          },
          "type": "line",
          "x0": 29,
          "x1": 29,
          "y0": 0.996575703581,
          "y1": 0.995037492781
         },
         {
          "line": {
           "color": "red",
           "width": 1.5
          },
          "type": "line",
          "x0": 30,
          "x1": 30,
          "y0": 0.996839289652,
          "y1": 0.995406616096
         },
         {
          "line": {
           "color": "red",
           "width": 1.5
          },
          "type": "line",
          "x0": 31,
          "x1": 31,
          "y0": 0.996518432358,
          "y1": 0.994976091797
         },
         {
          "line": {
           "color": "red",
           "width": 1.5
          },
          "type": "line",
          "x0": 32,
          "x1": 32,
          "y0": 0.996458255492,
          "y1": 0.994884966891
         },
         {
          "line": {
           "color": "red",
           "width": 1.5
          },
          "type": "line",
          "x0": 33,
          "x1": 33,
          "y0": 0.996626975103,
          "y1": 0.995121732993
         },
         {
          "line": {
           "color": "red",
           "width": 1.5
          },
          "type": "line",
          "x0": 34,
          "x1": 34,
          "y0": 0.996352201063,
          "y1": 0.994760117046
         },
         {
          "line": {
           "color": "red",
           "width": 1.5
          },
          "type": "line",
          "x0": 35,
          "x1": 35,
          "y0": 0.996612986206,
          "y1": 0.995090959435
         },
         {
          "line": {
           "color": "red",
           "width": 1.5
          },
          "type": "line",
          "x0": 36,
          "x1": 36,
          "y0": 0.996677700579,
          "y1": 0.995173013532
         },
         {
          "line": {
           "color": "red",
           "width": 1.5
          },
          "type": "line",
          "x0": 37,
          "x1": 37,
          "y0": 0.996376376998,
          "y1": 0.994783380276
         },
         {
          "line": {
           "color": "red",
           "width": 1.5
          },
          "type": "line",
          "x0": 38,
          "x1": 38,
          "y0": 0.996515134366,
          "y1": 0.994958892128
         },
         {
          "line": {
           "color": "red",
           "width": 1.5
          },
          "type": "line",
          "x0": 39,
          "x1": 39,
          "y0": 0.996665773973,
          "y1": 0.995161504966
         },
         {
          "line": {
           "color": "red",
           "width": 1.5
          },
          "type": "line",
          "x0": 40,
          "x1": 40,
          "y0": 0.996534808174,
          "y1": 0.995009523834
         },
         {
          "line": {
           "color": "red",
           "width": 1.5
          },
          "type": "line",
          "x0": 41,
          "x1": 41,
          "y0": 0.996505369033,
          "y1": 0.994948579138
         },
         {
          "line": {
           "color": "red",
           "width": 1.5
          },
          "type": "line",
          "x0": 42,
          "x1": 42,
          "y0": 0.996562564412,
          "y1": 0.995022802144
         },
         {
          "line": {
           "color": "red",
           "width": 1.5
          },
          "type": "line",
          "x0": 43,
          "x1": 43,
          "y0": 0.996475645752,
          "y1": 0.994901447928
         },
         {
          "line": {
           "color": "red",
           "width": 1.5
          },
          "type": "line",
          "x0": 44,
          "x1": 44,
          "y0": 0.996684967707,
          "y1": 0.995196595767
         },
         {
          "line": {
           "color": "red",
           "width": 1.5
          },
          "type": "line",
          "x0": 45,
          "x1": 45,
          "y0": 0.996377358782,
          "y1": 0.994786434146
         },
         {
          "line": {
           "color": "red",
           "width": 1.5
          },
          "type": "line",
          "x0": 46,
          "x1": 46,
          "y0": 0.996702452703,
          "y1": 0.995214969044
         },
         {
          "line": {
           "color": "red",
           "width": 1.5
          },
          "type": "line",
          "x0": 47,
          "x1": 47,
          "y0": 0.996568329266,
          "y1": 0.995044401115
         },
         {
          "line": {
           "color": "red",
           "width": 1.5
          },
          "type": "line",
          "x0": 48,
          "x1": 48,
          "y0": 0.996626925654,
          "y1": 0.995120075892
         },
         {
          "line": {
           "color": "red",
           "width": 1.5
          },
          "type": "line",
          "x0": 49,
          "x1": 49,
          "y0": 0.996522864735,
          "y1": 0.994982671444
         },
         {
          "line": {
           "color": "red",
           "width": 1.5
          },
          "type": "line",
          "x0": 50,
          "x1": 50,
          "y0": 0.996597829876,
          "y1": 0.995076406972
         },
         {
          "line": {
           "color": "red",
           "width": 1.5
          },
          "type": "line",
          "x0": 51,
          "x1": 51,
          "y0": 0.996720759388,
          "y1": 0.995233994951
         },
         {
          "line": {
           "color": "red",
           "width": 1.5
          },
          "type": "line",
          "x0": 52,
          "x1": 52,
          "y0": 0.996530112293,
          "y1": 0.994989213522
         },
         {
          "line": {
           "color": "red",
           "width": 1.5
          },
          "type": "line",
          "x0": 53,
          "x1": 53,
          "y0": 0.996441728783,
          "y1": 0.994867033805
         },
         {
          "line": {
           "color": "red",
           "width": 1.5
          },
          "type": "line",
          "x0": 54,
          "x1": 54,
          "y0": 0.996548847034,
          "y1": 0.995009298806
         },
         {
          "line": {
           "color": "red",
           "width": 1.5
          },
          "type": "line",
          "x0": 55,
          "x1": 55,
          "y0": 0.996543405493,
          "y1": 0.995018699986
         },
         {
          "line": {
           "color": "red",
           "width": 1.5
          },
          "type": "line",
          "x0": 56,
          "x1": 56,
          "y0": 0.996690745013,
          "y1": 0.995187895969
         },
         {
          "line": {
           "color": "red",
           "width": 1.5
          },
          "type": "line",
          "x0": 57,
          "x1": 57,
          "y0": 0.996688928057,
          "y1": 0.995186157729
         },
         {
          "line": {
           "color": "red",
           "width": 1.5
          },
          "type": "line",
          "x0": 58,
          "x1": 58,
          "y0": 0.996499728887,
          "y1": 0.994957470681
         },
         {
          "line": {
           "color": "red",
           "width": 1.5
          },
          "type": "line",
          "x0": 59,
          "x1": 59,
          "y0": 0.996453832219,
          "y1": 0.994895177402
         },
         {
          "line": {
           "color": "red",
           "width": 1.5
          },
          "type": "line",
          "x0": 60,
          "x1": 60,
          "y0": 0.996598289509,
          "y1": 0.995090920992
         },
         {
          "line": {
           "color": "red",
           "width": 1.5
          },
          "type": "line",
          "x0": 61,
          "x1": 61,
          "y0": 0.996542373337,
          "y1": 0.995003018284
         },
         {
          "line": {
           "color": "red",
           "width": 1.5
          },
          "type": "line",
          "x0": 62,
          "x1": 62,
          "y0": 0.996597408727,
          "y1": 0.99507360477
         },
         {
          "line": {
           "color": "red",
           "width": 1.5
          },
          "type": "line",
          "x0": 63,
          "x1": 63,
          "y0": 0.996434840353,
          "y1": 0.994859895722
         },
         {
          "line": {
           "color": "red",
           "width": 1.5
          },
          "type": "line",
          "x0": 64,
          "x1": 64,
          "y0": 0.996484511286,
          "y1": 0.994926345193
         },
         {
          "line": {
           "color": "red",
           "width": 1.5
          },
          "type": "line",
          "x0": 65,
          "x1": 65,
          "y0": 0.996467077526,
          "y1": 0.994909112312
         },
         {
          "line": {
           "color": "red",
           "width": 1.5
          },
          "type": "line",
          "x0": 66,
          "x1": 66,
          "y0": 0.996605316356,
          "y1": 0.995098211119
         },
         {
          "line": {
           "color": "red",
           "width": 1.5
          },
          "type": "line",
          "x0": 67,
          "x1": 67,
          "y0": 0.996752784011,
          "y1": 0.995284294197
         },
         {
          "line": {
           "color": "red",
           "width": 1.5
          },
          "type": "line",
          "x0": 68,
          "x1": 68,
          "y0": 0.996440400636,
          "y1": 0.994865118086
         },
         {
          "line": {
           "color": "red",
           "width": 1.5
          },
          "type": "line",
          "x0": 69,
          "x1": 69,
          "y0": 0.996666427698,
          "y1": 0.995178072351
         },
         {
          "line": {
           "color": "red",
           "width": 1.5
          },
          "type": "line",
          "x0": 70,
          "x1": 70,
          "y0": 0.99653411385,
          "y1": 0.994993589581
         },
         {
          "line": {
           "color": "red",
           "width": 1.5
          },
          "type": "line",
          "x0": 71,
          "x1": 71,
          "y0": 0.996529635052,
          "y1": 0.994989192942
         },
         {
          "line": {
           "color": "red",
           "width": 1.5
          },
          "type": "line",
          "x0": 72,
          "x1": 72,
          "y0": 0.99658625239,
          "y1": 0.995061858579
         },
         {
          "line": {
           "color": "red",
           "width": 1.5
          },
          "type": "line",
          "x0": 73,
          "x1": 73,
          "y0": 0.996522640609,
          "y1": 0.994966081198
         },
         {
          "line": {
           "color": "red",
           "width": 1.5
          },
          "type": "line",
          "x0": 74,
          "x1": 74,
          "y0": 0.996498568424,
          "y1": 0.994956642335
         },
         {
          "line": {
           "color": "red",
           "width": 1.5
          },
          "type": "line",
          "x0": 75,
          "x1": 75,
          "y0": 0.996532648142,
          "y1": 0.994991738611
         },
         {
          "line": {
           "color": "red",
           "width": 1.5
          },
          "type": "line",
          "x0": 76,
          "x1": 76,
          "y0": 0.996523397811,
          "y1": 0.994981312337
         },
         {
          "line": {
           "color": "red",
           "width": 1.5
          },
          "type": "line",
          "x0": 77,
          "x1": 77,
          "y0": 0.996650506471,
          "y1": 0.995145087244
         },
         {
          "line": {
           "color": "red",
           "width": 1.5
          },
          "type": "line",
          "x0": 78,
          "x1": 78,
          "y0": 0.996431716285,
          "y1": 0.994856536134
         },
         {
          "line": {
           "color": "red",
           "width": 1.5
          },
          "type": "line",
          "x0": 79,
          "x1": 79,
          "y0": 0.996621615473,
          "y1": 0.995114375766
         },
         {
          "line": {
           "color": "red",
           "width": 1.5
          },
          "type": "line",
          "x0": 80,
          "x1": 80,
          "y0": 0.99640265299,
          "y1": 0.994812391814
         },
         {
          "line": {
           "color": "red",
           "width": 1.5
          },
          "type": "line",
          "x0": 81,
          "x1": 81,
          "y0": 0.996588165484,
          "y1": 0.995065092117
         },
         {
          "line": {
           "color": "red",
           "width": 1.5
          },
          "type": "line",
          "x0": 82,
          "x1": 82,
          "y0": 0.996726110975,
          "y1": 0.995240081739
         },
         {
          "line": {
           "color": "red",
           "width": 1.5
          },
          "type": "line",
          "x0": 83,
          "x1": 83,
          "y0": 0.996705059374,
          "y1": 0.995216968343
         },
         {
          "line": {
           "color": "red",
           "width": 1.5
          },
          "type": "line",
          "x0": 84,
          "x1": 84,
          "y0": 0.996455244891,
          "y1": 0.994882185122
         },
         {
          "line": {
           "color": "red",
           "width": 1.5
          },
          "type": "line",
          "x0": 85,
          "x1": 85,
          "y0": 0.996537844712,
          "y1": 0.994997252825
         },
         {
          "line": {
           "color": "red",
           "width": 1.5
          },
          "type": "line",
          "x0": 86,
          "x1": 86,
          "y0": 0.996592351386,
          "y1": 0.995070231073
         },
         {
          "line": {
           "color": "red",
           "width": 1.5
          },
          "type": "line",
          "x0": 87,
          "x1": 87,
          "y0": 0.996430960114,
          "y1": 0.994855971661
         },
         {
          "line": {
           "color": "red",
           "width": 1.5
          },
          "type": "line",
          "x0": 88,
          "x1": 88,
          "y0": 0.996693582125,
          "y1": 0.995206846272
         },
         {
          "line": {
           "color": "red",
           "width": 1.5
          },
          "type": "line",
          "x0": 89,
          "x1": 89,
          "y0": 0.996527390064,
          "y1": 0.99497137585
         },
         {
          "line": {
           "color": "red",
           "width": 1.5
          },
          "type": "line",
          "x0": 90,
          "x1": 90,
          "y0": 0.996527032403,
          "y1": 0.995001683329
         },
         {
          "line": {
           "color": "red",
           "width": 1.5
          },
          "type": "line",
          "x0": 91,
          "x1": 91,
          "y0": 0.996503372831,
          "y1": 0.9949606961
         },
         {
          "line": {
           "color": "red",
           "width": 1.5
          },
          "type": "line",
          "x0": 92,
          "x1": 92,
          "y0": 0.996647220852,
          "y1": 0.995158658112
         },
         {
          "line": {
           "color": "red",
           "width": 1.5
          },
          "type": "line",
          "x0": 93,
          "x1": 93,
          "y0": 0.996477793147,
          "y1": 0.994919959822
         },
         {
          "line": {
           "color": "red",
           "width": 1.5
          },
          "type": "line",
          "x0": 94,
          "x1": 94,
          "y0": 0.996787739797,
          "y1": 0.995337392289
         },
         {
          "line": {
           "color": "red",
           "width": 1.5
          },
          "type": "line",
          "x0": 95,
          "x1": 95,
          "y0": 0.996492889921,
          "y1": 0.994934991831
         },
         {
          "line": {
           "color": "red",
           "width": 1.5
          },
          "type": "line",
          "x0": 96,
          "x1": 96,
          "y0": 0.996516994396,
          "y1": 0.994974956213
         },
         {
          "line": {
           "color": "red",
           "width": 1.5
          },
          "type": "line",
          "x0": 97,
          "x1": 97,
          "y0": 0.996584551771,
          "y1": 0.995061208784
         },
         {
          "line": {
           "color": "red",
           "width": 1.5
          },
          "type": "line",
          "x0": 98,
          "x1": 98,
          "y0": 0.996471279024,
          "y1": 0.994898395618
         },
         {
          "line": {
           "color": "red",
           "width": 1.5
          },
          "type": "line",
          "x0": 99,
          "x1": 99,
          "y0": 0.996552595821,
          "y1": 0.99499685807
         },
         {
          "line": {
           "color": "red",
           "width": 1.5
          },
          "type": "line",
          "x0": 100,
          "x1": 100,
          "y0": 0.99671724436,
          "y1": 0.995214953044
         }
        ],
        "showlegend": false,
        "template": {
         "data": {
          "bar": [
           {
            "error_x": {
             "color": "#2a3f5f"
            },
            "error_y": {
             "color": "#2a3f5f"
            },
            "marker": {
             "line": {
              "color": "#E5ECF6",
              "width": 0.5
             },
             "pattern": {
              "fillmode": "overlay",
              "size": 10,
              "solidity": 0.2
             }
            },
            "type": "bar"
           }
          ],
          "barpolar": [
           {
            "marker": {
             "line": {
              "color": "#E5ECF6",
              "width": 0.5
             },
             "pattern": {
              "fillmode": "overlay",
              "size": 10,
              "solidity": 0.2
             }
            },
            "type": "barpolar"
           }
          ],
          "carpet": [
           {
            "aaxis": {
             "endlinecolor": "#2a3f5f",
             "gridcolor": "white",
             "linecolor": "white",
             "minorgridcolor": "white",
             "startlinecolor": "#2a3f5f"
            },
            "baxis": {
             "endlinecolor": "#2a3f5f",
             "gridcolor": "white",
             "linecolor": "white",
             "minorgridcolor": "white",
             "startlinecolor": "#2a3f5f"
            },
            "type": "carpet"
           }
          ],
          "choropleth": [
           {
            "colorbar": {
             "outlinewidth": 0,
             "ticks": ""
            },
            "type": "choropleth"
           }
          ],
          "contour": [
           {
            "colorbar": {
             "outlinewidth": 0,
             "ticks": ""
            },
            "colorscale": [
             [
              0,
              "#0d0887"
             ],
             [
              0.1111111111111111,
              "#46039f"
             ],
             [
              0.2222222222222222,
              "#7201a8"
             ],
             [
              0.3333333333333333,
              "#9c179e"
             ],
             [
              0.4444444444444444,
              "#bd3786"
             ],
             [
              0.5555555555555556,
              "#d8576b"
             ],
             [
              0.6666666666666666,
              "#ed7953"
             ],
             [
              0.7777777777777778,
              "#fb9f3a"
             ],
             [
              0.8888888888888888,
              "#fdca26"
             ],
             [
              1,
              "#f0f921"
             ]
            ],
            "type": "contour"
           }
          ],
          "contourcarpet": [
           {
            "colorbar": {
             "outlinewidth": 0,
             "ticks": ""
            },
            "type": "contourcarpet"
           }
          ],
          "heatmap": [
           {
            "colorbar": {
             "outlinewidth": 0,
             "ticks": ""
            },
            "colorscale": [
             [
              0,
              "#0d0887"
             ],
             [
              0.1111111111111111,
              "#46039f"
             ],
             [
              0.2222222222222222,
              "#7201a8"
             ],
             [
              0.3333333333333333,
              "#9c179e"
             ],
             [
              0.4444444444444444,
              "#bd3786"
             ],
             [
              0.5555555555555556,
              "#d8576b"
             ],
             [
              0.6666666666666666,
              "#ed7953"
             ],
             [
              0.7777777777777778,
              "#fb9f3a"
             ],
             [
              0.8888888888888888,
              "#fdca26"
             ],
             [
              1,
              "#f0f921"
             ]
            ],
            "type": "heatmap"
           }
          ],
          "heatmapgl": [
           {
            "colorbar": {
             "outlinewidth": 0,
             "ticks": ""
            },
            "colorscale": [
             [
              0,
              "#0d0887"
             ],
             [
              0.1111111111111111,
              "#46039f"
             ],
             [
              0.2222222222222222,
              "#7201a8"
             ],
             [
              0.3333333333333333,
              "#9c179e"
             ],
             [
              0.4444444444444444,
              "#bd3786"
             ],
             [
              0.5555555555555556,
              "#d8576b"
             ],
             [
              0.6666666666666666,
              "#ed7953"
             ],
             [
              0.7777777777777778,
              "#fb9f3a"
             ],
             [
              0.8888888888888888,
              "#fdca26"
             ],
             [
              1,
              "#f0f921"
             ]
            ],
            "type": "heatmapgl"
           }
          ],
          "histogram": [
           {
            "marker": {
             "pattern": {
              "fillmode": "overlay",
              "size": 10,
              "solidity": 0.2
             }
            },
            "type": "histogram"
           }
          ],
          "histogram2d": [
           {
            "colorbar": {
             "outlinewidth": 0,
             "ticks": ""
            },
            "colorscale": [
             [
              0,
              "#0d0887"
             ],
             [
              0.1111111111111111,
              "#46039f"
             ],
             [
              0.2222222222222222,
              "#7201a8"
             ],
             [
              0.3333333333333333,
              "#9c179e"
             ],
             [
              0.4444444444444444,
              "#bd3786"
             ],
             [
              0.5555555555555556,
              "#d8576b"
             ],
             [
              0.6666666666666666,
              "#ed7953"
             ],
             [
              0.7777777777777778,
              "#fb9f3a"
             ],
             [
              0.8888888888888888,
              "#fdca26"
             ],
             [
              1,
              "#f0f921"
             ]
            ],
            "type": "histogram2d"
           }
          ],
          "histogram2dcontour": [
           {
            "colorbar": {
             "outlinewidth": 0,
             "ticks": ""
            },
            "colorscale": [
             [
              0,
              "#0d0887"
             ],
             [
              0.1111111111111111,
              "#46039f"
             ],
             [
              0.2222222222222222,
              "#7201a8"
             ],
             [
              0.3333333333333333,
              "#9c179e"
             ],
             [
              0.4444444444444444,
              "#bd3786"
             ],
             [
              0.5555555555555556,
              "#d8576b"
             ],
             [
              0.6666666666666666,
              "#ed7953"
             ],
             [
              0.7777777777777778,
              "#fb9f3a"
             ],
             [
              0.8888888888888888,
              "#fdca26"
             ],
             [
              1,
              "#f0f921"
             ]
            ],
            "type": "histogram2dcontour"
           }
          ],
          "mesh3d": [
           {
            "colorbar": {
             "outlinewidth": 0,
             "ticks": ""
            },
            "type": "mesh3d"
           }
          ],
          "parcoords": [
           {
            "line": {
             "colorbar": {
              "outlinewidth": 0,
              "ticks": ""
             }
            },
            "type": "parcoords"
           }
          ],
          "pie": [
           {
            "automargin": true,
            "type": "pie"
           }
          ],
          "scatter": [
           {
            "fillpattern": {
             "fillmode": "overlay",
             "size": 10,
             "solidity": 0.2
            },
            "type": "scatter"
           }
          ],
          "scatter3d": [
           {
            "line": {
             "colorbar": {
              "outlinewidth": 0,
              "ticks": ""
             }
            },
            "marker": {
             "colorbar": {
              "outlinewidth": 0,
              "ticks": ""
             }
            },
            "type": "scatter3d"
           }
          ],
          "scattercarpet": [
           {
            "marker": {
             "colorbar": {
              "outlinewidth": 0,
              "ticks": ""
             }
            },
            "type": "scattercarpet"
           }
          ],
          "scattergeo": [
           {
            "marker": {
             "colorbar": {
              "outlinewidth": 0,
              "ticks": ""
             }
            },
            "type": "scattergeo"
           }
          ],
          "scattergl": [
           {
            "marker": {
             "colorbar": {
              "outlinewidth": 0,
              "ticks": ""
             }
            },
            "type": "scattergl"
           }
          ],
          "scattermapbox": [
           {
            "marker": {
             "colorbar": {
              "outlinewidth": 0,
              "ticks": ""
             }
            },
            "type": "scattermapbox"
           }
          ],
          "scatterpolar": [
           {
            "marker": {
             "colorbar": {
              "outlinewidth": 0,
              "ticks": ""
             }
            },
            "type": "scatterpolar"
           }
          ],
          "scatterpolargl": [
           {
            "marker": {
             "colorbar": {
              "outlinewidth": 0,
              "ticks": ""
             }
            },
            "type": "scatterpolargl"
           }
          ],
          "scatterternary": [
           {
            "marker": {
             "colorbar": {
              "outlinewidth": 0,
              "ticks": ""
             }
            },
            "type": "scatterternary"
           }
          ],
          "surface": [
           {
            "colorbar": {
             "outlinewidth": 0,
             "ticks": ""
            },
            "colorscale": [
             [
              0,
              "#0d0887"
             ],
             [
              0.1111111111111111,
              "#46039f"
             ],
             [
              0.2222222222222222,
              "#7201a8"
             ],
             [
              0.3333333333333333,
              "#9c179e"
             ],
             [
              0.4444444444444444,
              "#bd3786"
             ],
             [
              0.5555555555555556,
              "#d8576b"
             ],
             [
              0.6666666666666666,
              "#ed7953"
             ],
             [
              0.7777777777777778,
              "#fb9f3a"
             ],
             [
              0.8888888888888888,
              "#fdca26"
             ],
             [
              1,
              "#f0f921"
             ]
            ],
            "type": "surface"
           }
          ],
          "table": [
           {
            "cells": {
             "fill": {
              "color": "#EBF0F8"
             },
             "line": {
              "color": "white"
             }
            },
            "header": {
             "fill": {
              "color": "#C8D4E3"
             },
             "line": {
              "color": "white"
             }
            },
            "type": "table"
           }
          ]
         },
         "layout": {
          "annotationdefaults": {
           "arrowcolor": "#2a3f5f",
           "arrowhead": 0,
           "arrowwidth": 1
          },
          "autotypenumbers": "strict",
          "coloraxis": {
           "colorbar": {
            "outlinewidth": 0,
            "ticks": ""
           }
          },
          "colorscale": {
           "diverging": [
            [
             0,
             "#8e0152"
            ],
            [
             0.1,
             "#c51b7d"
            ],
            [
             0.2,
             "#de77ae"
            ],
            [
             0.3,
             "#f1b6da"
            ],
            [
             0.4,
             "#fde0ef"
            ],
            [
             0.5,
             "#f7f7f7"
            ],
            [
             0.6,
             "#e6f5d0"
            ],
            [
             0.7,
             "#b8e186"
            ],
            [
             0.8,
             "#7fbc41"
            ],
            [
             0.9,
             "#4d9221"
            ],
            [
             1,
             "#276419"
            ]
           ],
           "sequential": [
            [
             0,
             "#0d0887"
            ],
            [
             0.1111111111111111,
             "#46039f"
            ],
            [
             0.2222222222222222,
             "#7201a8"
            ],
            [
             0.3333333333333333,
             "#9c179e"
            ],
            [
             0.4444444444444444,
             "#bd3786"
            ],
            [
             0.5555555555555556,
             "#d8576b"
            ],
            [
             0.6666666666666666,
             "#ed7953"
            ],
            [
             0.7777777777777778,
             "#fb9f3a"
            ],
            [
             0.8888888888888888,
             "#fdca26"
            ],
            [
             1,
             "#f0f921"
            ]
           ],
           "sequentialminus": [
            [
             0,
             "#0d0887"
            ],
            [
             0.1111111111111111,
             "#46039f"
            ],
            [
             0.2222222222222222,
             "#7201a8"
            ],
            [
             0.3333333333333333,
             "#9c179e"
            ],
            [
             0.4444444444444444,
             "#bd3786"
            ],
            [
             0.5555555555555556,
             "#d8576b"
            ],
            [
             0.6666666666666666,
             "#ed7953"
            ],
            [
             0.7777777777777778,
             "#fb9f3a"
            ],
            [
             0.8888888888888888,
             "#fdca26"
            ],
            [
             1,
             "#f0f921"
            ]
           ]
          },
          "colorway": [
           "#636efa",
           "#EF553B",
           "#00cc96",
           "#ab63fa",
           "#FFA15A",
           "#19d3f3",
           "#FF6692",
           "#B6E880",
           "#FF97FF",
           "#FECB52"
          ],
          "font": {
           "color": "#2a3f5f"
          },
          "geo": {
           "bgcolor": "white",
           "lakecolor": "white",
           "landcolor": "#E5ECF6",
           "showlakes": true,
           "showland": true,
           "subunitcolor": "white"
          },
          "hoverlabel": {
           "align": "left"
          },
          "hovermode": "closest",
          "mapbox": {
           "style": "light"
          },
          "paper_bgcolor": "white",
          "plot_bgcolor": "#E5ECF6",
          "polar": {
           "angularaxis": {
            "gridcolor": "white",
            "linecolor": "white",
            "ticks": ""
           },
           "bgcolor": "#E5ECF6",
           "radialaxis": {
            "gridcolor": "white",
            "linecolor": "white",
            "ticks": ""
           }
          },
          "scene": {
           "xaxis": {
            "backgroundcolor": "#E5ECF6",
            "gridcolor": "white",
            "gridwidth": 2,
            "linecolor": "white",
            "showbackground": true,
            "ticks": "",
            "zerolinecolor": "white"
           },
           "yaxis": {
            "backgroundcolor": "#E5ECF6",
            "gridcolor": "white",
            "gridwidth": 2,
            "linecolor": "white",
            "showbackground": true,
            "ticks": "",
            "zerolinecolor": "white"
           },
           "zaxis": {
            "backgroundcolor": "#E5ECF6",
            "gridcolor": "white",
            "gridwidth": 2,
            "linecolor": "white",
            "showbackground": true,
            "ticks": "",
            "zerolinecolor": "white"
           }
          },
          "shapedefaults": {
           "line": {
            "color": "#2a3f5f"
           }
          },
          "ternary": {
           "aaxis": {
            "gridcolor": "white",
            "linecolor": "white",
            "ticks": ""
           },
           "baxis": {
            "gridcolor": "white",
            "linecolor": "white",
            "ticks": ""
           },
           "bgcolor": "#E5ECF6",
           "caxis": {
            "gridcolor": "white",
            "linecolor": "white",
            "ticks": ""
           }
          },
          "title": {
           "x": 0.05
          },
          "xaxis": {
           "automargin": true,
           "gridcolor": "white",
           "linecolor": "white",
           "ticks": "",
           "title": {
            "standoff": 15
           },
           "zerolinecolor": "white",
           "zerolinewidth": 2
          },
          "yaxis": {
           "automargin": true,
           "gridcolor": "white",
           "linecolor": "white",
           "ticks": "",
           "title": {
            "standoff": 15
           },
           "zerolinecolor": "white",
           "zerolinewidth": 2
          }
         }
        },
        "title": {
         "text": "Maximum auROC and 95% CI using calibration data set"
        },
        "width": 1200,
        "xaxis": {
         "title": {
          "text": "Number of bootstrap"
         }
        },
        "yaxis": {
         "range": [
          0.99,
          1
         ],
         "title": {
          "text": "auROC"
         }
        }
       }
      }
     },
     "metadata": {},
     "output_type": "display_data"
    }
   ],
   "source": [
    "# Plot maximumu auROCs\n",
    "\n",
    "fig = go.Figure()\n",
    "\n",
    "# Add vertical lines between CI upper and lower by set\n",
    "for i in range(1, 101):\n",
    "    fig.add_shape(\n",
    "        dict(\n",
    "            type='line',\n",
    "            x0=i,\n",
    "            y0=maxdf.loc[maxdf['Dataset'] == i, 'CI_upper'].values[0],\n",
    "            x1=i,\n",
    "            y1=maxdf.loc[maxdf['Dataset'] == i, 'CI_lower'].values[0],\n",
    "            line=dict(color='red', width=1.5)\n",
    "        )\n",
    "    )\n",
    "\n",
    "# Plot each 95% CI using error bars\n",
    "fig.add_trace(go.Scatter(x=maxdf['Dataset'], y=maxdf['CI_upper'],\n",
    "                    mode='markers',\n",
    "                    name='CI upper',\n",
    "                    marker=dict(color='#E0806E', size=4)))\n",
    "\n",
    "fig.add_trace(go.Scatter(x=maxdf['Dataset'], y=maxdf['CI_lower'],\n",
    "                    mode='markers',\n",
    "                    name='CI lower',\n",
    "                    marker=dict(color='#E0806E', size=4)))\n",
    "\n",
    "# # Plot only maximum auROC\n",
    "# fig.add_trace(go.Scatter(x=maxdf['Dataset'], y=maxdf['auROC'],\n",
    "#                     mode='markers',\n",
    "#                     name='Maximum auROC',\n",
    "#                     marker=dict(color='blue', size=10)))\n",
    "\n",
    "\n",
    "# Plot the best candidate\n",
    "for i in range(bootstrap):\n",
    "    fig.add_trace(go.Scatter(x=[i+1], y=[maxdf.loc[maxdf['Dataset'] == i+1, 'auROC'].values[0]],\n",
    "                    mode='markers',\n",
    "                    name='Best candidate',\n",
    "                    marker=dict(color='#E0806E', size=8)))\n",
    "\n",
    "# plot order of lines and markers\n",
    "fig.update_layout(showlegend=False)\n",
    "\n",
    "fig.update_layout(title='Maximum auROC and 95% CI using calibration data set',\n",
    "                  xaxis_title='Number of bootstrap',\n",
    "                  yaxis_title='auROC')\n",
    "# Change font size\n",
    "fig.update_layout(font=dict(size=21))\n",
    "\n",
    "# y-axis range: 0.99 to 1.00\n",
    "fig.update_yaxes(range=[0.99, 1.00])\n",
    "\n",
    "# x-asis ticks and range\n",
    "# Figure size\n",
    "fig.update_layout(width=1200, height=600)\n",
    "\n",
    "fig.show()\n"
   ]
  },
  {
   "cell_type": "code",
   "execution_count": 37,
   "metadata": {},
   "outputs": [],
   "source": [
    "## Comparison analysis Framework vs SpliceAI alone\n",
    "# Test data pkls\n"
   ]
  }
 ],
 "metadata": {
  "kernelspec": {
   "display_name": "wesanno",
   "language": "python",
   "name": "python3"
  },
  "language_info": {
   "codemirror_mode": {
    "name": "ipython",
    "version": 3
   },
   "file_extension": ".py",
   "mimetype": "text/x-python",
   "name": "python",
   "nbconvert_exporter": "python",
   "pygments_lexer": "ipython3",
   "version": "3.9.18"
  }
 },
 "nbformat": 4,
 "nbformat_minor": 2
}
