{
 "cells": [
  {
   "cell_type": "code",
   "execution_count": 16,
   "metadata": {},
   "outputs": [
    {
     "name": "stdout",
     "output_type": "stream",
     "text": [
      "INFO: Pandarallel will run on 6 workers.\n",
      "INFO: Pandarallel will use standard multiprocessing data transfer (pipe) to transfer data between the main process and workers.\n"
     ]
    }
   ],
   "source": [
    "import os\n",
    "import pandas as pd\n",
    "import numpy as np\n",
    "import sqlite3\n",
    "\n",
    "from pandarallel import pandarallel\n",
    "pandarallel.initialize(progress_bar=True, nb_workers=6, use_memory_fs=False)\n",
    "os.environ['JOBLIB_TEMP_FOLDER'] = '/tmp' "
   ]
  },
  {
   "cell_type": "code",
   "execution_count": 17,
   "metadata": {},
   "outputs": [],
   "source": [
    "mydata = './original.snpeff_parsed.tsv'\n",
    "mydb = '../../TestData/ycudb/ycudb.db'\n",
    "\n",
    "# Load my data\n",
    "df = pd.read_csv(mydata, sep='\\t', header=0, index_col=False, dtype=str)\n",
    "df['DNA_ID'] = df['sample'].str.split('_').str[1]\n",
    "\n",
    "# Connect to db\n",
    "conn = sqlite3.connect(mydb)\n",
    "c = conn.cursor()"
   ]
  },
  {
   "cell_type": "code",
   "execution_count": 18,
   "metadata": {},
   "outputs": [
    {
     "data": {
      "application/vnd.jupyter.widget-view+json": {
       "model_id": "08f123b2c752427d92381a48b97c6af1",
       "version_major": 2,
       "version_minor": 0
      },
      "text/plain": [
       "VBox(children=(HBox(children=(IntProgress(value=0, description='0.00%', max=3670), Label(value='0 / 3670'))), …"
      ]
     },
     "metadata": {},
     "output_type": "display_data"
    },
    {
     "data": {
      "application/vnd.jupyter.widget-view+json": {
       "model_id": "57193d9dd4474c6a9fd3e2e24d9766a1",
       "version_major": 2,
       "version_minor": 0
      },
      "text/plain": [
       "VBox(children=(HBox(children=(IntProgress(value=0, description='0.00%', max=3670), Label(value='0 / 3670'))), …"
      ]
     },
     "metadata": {},
     "output_type": "display_data"
    }
   ],
   "source": [
    "def __fetch_state_from_mailed(query_dna_id) -> str:\n",
    "    sql = f\"SELECT State FROM mailed_samples WHERE DNA_ID = '{query_dna_id}'\"\n",
    "    try:\n",
    "        return c.execute(sql).fetchone()[0]\n",
    "    except TypeError:\n",
    "        return 'None'\n",
    "    \n",
    "def __fetch_state_from_new(query_dna_id) -> str:\n",
    "    sql = f\"SELECT State FROM new_samples WHERE DNA_ID = '{query_dna_id}'\"\n",
    "    try:\n",
    "        return c.execute(sql).fetchone()[0]\n",
    "    except TypeError:\n",
    "        return 'None'\n",
    "\n",
    "def annotate_state(row):\n",
    "    query_dna_id = row['DNA_ID']\n",
    "    if __fetch_state_from_mailed(query_dna_id) != 'None':\n",
    "        return __fetch_state_from_mailed(query_dna_id)\n",
    "    else:\n",
    "        if __fetch_state_from_new(query_dna_id) != 'None':\n",
    "            return __fetch_state_from_new(query_dna_id)\n",
    "        else:\n",
    "            return 'Undetermined'\n",
    "\n",
    "\n",
    "# Fetch disease info\n",
    "def __fetch_disease_from_mailed(query_dna_id) -> str:\n",
    "    sql = f\"SELECT 診断名 FROM mailed_samples WHERE DNA_ID = '{query_dna_id}'\"\n",
    "    try:\n",
    "        return c.execute(sql).fetchone()[0]\n",
    "    except TypeError:\n",
    "        return 'None'\n",
    "    \n",
    "def __fetch_disease_from_new(query_dna_id) -> str:\n",
    "    sql = f\"SELECT 病名 FROM new_samples WHERE DNA_ID = '{query_dna_id}'\"\n",
    "    try:\n",
    "        return c.execute(sql).fetchone()[0]\n",
    "    except TypeError:\n",
    "        return 'None'\n",
    "    \n",
    "def __fetch_disease_from_old(query_dna_id) -> str:\n",
    "    sql = f\"SELECT 病名 FROM old_samples WHERE DNA_ID = '{query_dna_id}'\"\n",
    "    try:\n",
    "        return c.execute(sql).fetchone()[0]\n",
    "    except TypeError:\n",
    "        return 'None'\n",
    "    \n",
    "def annotate_disease(row):\n",
    "    query_dna_id = row['DNA_ID']\n",
    "    result = []\n",
    "    if __fetch_disease_from_mailed(query_dna_id) != 'None':\n",
    "        result.append(__fetch_disease_from_mailed(query_dna_id))\n",
    "    else:\n",
    "        pass\n",
    "    if __fetch_disease_from_new(query_dna_id) != 'None':\n",
    "        result.append(__fetch_disease_from_new(query_dna_id))\n",
    "    else:\n",
    "        pass\n",
    "    if __fetch_disease_from_old(query_dna_id) != 'None':\n",
    "        result.append(__fetch_disease_from_old(query_dna_id))\n",
    "    else:\n",
    "        pass\n",
    "\n",
    "    return ','.join(result)\n",
    "\n",
    "\n",
    "df['State'] = df.parallel_apply(lambda row: annotate_state(row), axis=1)\n",
    "df['Disease'] = df.parallel_apply(lambda row: annotate_disease(row), axis=1)"
   ]
  },
  {
   "cell_type": "code",
   "execution_count": 24,
   "metadata": {},
   "outputs": [],
   "source": [
    "outfilename = './original.snpeff.state.disease.tsv'"
   ]
  },
  {
   "cell_type": "code",
   "execution_count": 25,
   "metadata": {},
   "outputs": [],
   "source": [
    "df.to_csv(outfilename, sep='\\t', index=False)"
   ]
  },
  {
   "cell_type": "code",
   "execution_count": null,
   "metadata": {},
   "outputs": [],
   "source": []
  }
 ],
 "metadata": {
  "kernelspec": {
   "display_name": "wesanno",
   "language": "python",
   "name": "python3"
  },
  "language_info": {
   "codemirror_mode": {
    "name": "ipython",
    "version": 3
   },
   "file_extension": ".py",
   "mimetype": "text/x-python",
   "name": "python",
   "nbconvert_exporter": "python",
   "pygments_lexer": "ipython3",
   "version": "3.9.18"
  }
 },
 "nbformat": 4,
 "nbformat_minor": 2
}
