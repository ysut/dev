{
 "cells": [
  {
   "cell_type": "code",
   "execution_count": null,
   "metadata": {},
   "outputs": [],
   "source": [
    "!conda install -c conda-forge ipywidgets -y"
   ]
  },
  {
   "cell_type": "code",
   "execution_count": 1,
   "metadata": {},
   "outputs": [],
   "source": [
    "import re\n",
    "import gzip\n",
    "import pandas as pd\n",
    "import pysam\n",
    "import gffutils"
   ]
  },
  {
   "cell_type": "code",
   "execution_count": null,
   "metadata": {},
   "outputs": [],
   "source": [
    "db = gffutils.create_db(gtf_file, \n",
    "                        '/data/gencode.v43lift37.annotation.gtf.db',\n",
    "                        disable_infer_genes=True, \n",
    "                        disable_infer_transcripts=True,\n",
    "                        keep_order=True\n",
    "                        )"
   ]
  },
  {
   "cell_type": "code",
   "execution_count": 2,
   "metadata": {},
   "outputs": [],
   "source": [
    "anno_gff = '/work/CanonicalTrasncripts/gencode.v43lift37.annotation.sort.gff3.gz'\n",
    "anno_db = '/data/gencode.v43lift37.annotation.gtf.db'\n",
    "db = gffutils.FeatureDB(anno_db)"
   ]
  },
  {
   "cell_type": "code",
   "execution_count": 3,
   "metadata": {},
   "outputs": [],
   "source": [
    "with open('./CanonicalTranscripts.exoncount.tsv', mode='x', encoding='utf-8') as outfile:\n",
    "    columns = ['CHROM', 'Start', 'End', 'Strand', 'GeneSymbol', 'HGNC_ID', \n",
    "               'MaxExon', 'ENSG', 'ENST', 'ENSG_Full', 'ENST_Full', \n",
    "               'GeneType', 'Tag']\n",
    "    outfile.write('\\t'.join(columns) + '\\n')\n",
    "    with gzip.open(anno_gff) as annos:\n",
    "        for r in pysam.tabix_iterator(annos, pysam.asGFF3()):\n",
    "            try:\n",
    "                r.tag\n",
    "            except KeyError:\n",
    "                pass\n",
    "            else:\n",
    "                if r.feature == 'transcript':\n",
    "                    if 'Ensembl_canonical' in r.tag:\n",
    "                        ensg = re.match(r'ENSG\\d+', r.gene_id).group()\n",
    "                        enst = re.match(r'ENST\\d+', r.transcript_id).group()\n",
    "                        exons = db.children(r.transcript_id, featuretype='exon')\n",
    "                        exon_counter = 0\n",
    "                        while 1:\n",
    "                            try:\n",
    "                                next(exons)\n",
    "                            except StopIteration:\n",
    "                                break\n",
    "                            else:\n",
    "                                exon_counter += 1\n",
    "                        try:\n",
    "                            r.hgnc_id\n",
    "                        except KeyError:\n",
    "                            write_record = [\n",
    "                                r.contig, str(r.start), str(r.end), r.strand,\n",
    "                                r.gene_name, '.', str(exon_counter), ensg, enst,\n",
    "                                r.gene_id, r.transcript_id, r.gene_type, r.tag\n",
    "                                ]\n",
    "                            outfile.write('\\t'.join(write_record) + '\\n')\n",
    "                        else:\n",
    "                            hgnc = re.search(r'\\d+', r.hgnc_id).group()\n",
    "                            write_record = [\n",
    "                                r.contig, str(r.start), str(r.end), r.strand,\n",
    "                                r.gene_name, hgnc, str(exon_counter), ensg, enst,\n",
    "                                r.gene_id, r.transcript_id, r.gene_type, r.tag\n",
    "                                ]\n",
    "                            outfile.write('\\t'.join(write_record) + '\\n')\n",
    "                    else:\n",
    "                        pass\n",
    "                    pass\n",
    "                else:\n",
    "                    pass"
   ]
  }
 ],
 "metadata": {
  "kernelspec": {
   "display_name": "env",
   "language": "python",
   "name": "python3"
  },
  "language_info": {
   "codemirror_mode": {
    "name": "ipython",
    "version": 3
   },
   "file_extension": ".py",
   "mimetype": "text/x-python",
   "name": "python",
   "nbconvert_exporter": "python",
   "pygments_lexer": "ipython3",
   "version": "3.9.16"
  },
  "orig_nbformat": 4
 },
 "nbformat": 4,
 "nbformat_minor": 2
}
