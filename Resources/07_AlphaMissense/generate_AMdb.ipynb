{
 "cells": [
  {
   "cell_type": "code",
   "execution_count": 5,
   "metadata": {},
   "outputs": [],
   "source": [
    "# Built-in imports\n",
    "import glob\n",
    "from dataclasses import dataclass\n",
    "from logging import getLogger, StreamHandler, Formatter, INFO\n",
    "\n",
    "# Third party imports\n",
    "import pandas as pd\n",
    "import sqlite3\n",
    "\n",
    "# Set up logger\n",
    "logger = getLogger(__name__)\n",
    "format = Formatter(fmt='%(asctime)s [%(levelname)s] - %(message)s',\n",
    "                   datefmt='%Y-%m-%d %H:%M:%S')\n",
    "handler = StreamHandler()\n",
    "handler.setLevel(INFO)\n",
    "handler.setFormatter(format)\n",
    "logger.addHandler(handler)\n",
    "logger.setLevel(INFO)\n",
    "logger.propagate = False\n",
    "\n",
    "@dataclass\n",
    "class DFs:\n",
    "    hg19: pd.DataFrame\n",
    "    hg38: pd.DataFrame\n",
    "    aasub: pd.DataFrame\n",
    "    isf_hg38: pd.DataFrame\n",
    "    isf_aasub: pd.DataFrame\n",
    "    gene19: pd.DataFrame\n",
    "    gene38: pd.DataFrame\n",
    "    \n",
    "def find_excel_files() -> tuple:\n",
    "    logger.info(\"Find the excel files\")\n",
    "    path_hg19: str = glob.glob('./AlphaMissense_hg19.tsv.gz')[0]\n",
    "    path_hg38: str = glob.glob('./AlphaMissense_hg19.tsv.gz')[0]\n",
    "\n",
    "    return "
   ]
  },
  {
   "cell_type": "code",
   "execution_count": 6,
   "metadata": {},
   "outputs": [
    {
     "data": {
      "text/plain": [
       "['./AlphaMissense_aa_substitutions.tsv.gz']"
      ]
     },
     "execution_count": 6,
     "metadata": {},
     "output_type": "execute_result"
    }
   ],
   "source": [
    "glob.glob('./AlphaMissense_aa*.gz')[0]"
   ]
  },
  {
   "cell_type": "code",
   "execution_count": null,
   "metadata": {},
   "outputs": [],
   "source": []
  }
 ],
 "metadata": {
  "kernelspec": {
   "display_name": "gakui",
   "language": "python",
   "name": "python3"
  },
  "language_info": {
   "codemirror_mode": {
    "name": "ipython",
    "version": 3
   },
   "file_extension": ".py",
   "mimetype": "text/x-python",
   "name": "python",
   "nbconvert_exporter": "python",
   "pygments_lexer": "ipython3",
   "version": "3.9.18"
  }
 },
 "nbformat": 4,
 "nbformat_minor": 2
}
